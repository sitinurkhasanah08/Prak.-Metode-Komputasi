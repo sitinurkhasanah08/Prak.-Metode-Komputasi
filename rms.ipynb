{
 "cells": [
  {
   "cell_type": "code",
   "execution_count": null,
   "metadata": {},
   "outputs": [],
   "source": []
  },
  {
   "cell_type": "markdown",
   "metadata": {},
   "source": [
    "---\n",
    "<p align=\"center\">\n",
    "LAPORAN PRAKTIKUM METODE KOMPUTASI\n",
    "<p> \n",
    "<p align=\"center\">\n",
    "PERTEMUAN    \n",
    "<p>\n",
    "<p align=\"center\">\n",
    "PENGENALAN BASIC PYTHON\n",
    "<p>\n",
    "<br>\n",
    "<br>\n",
    "<p align=\"center\">\n",
    "DIBUAT OLEH  \n",
    "<p>\n",
    "<p align=\"center\">\n",
    "Siti Nurkhasanah\n",
    "<p>\n",
    "<p align=\"center\">\n",
    "23/511902/PA/21850\n",
    "<p>\n",
    "<br>\n",
    "<br>\n",
    "<p align=\"center\">\n",
    "PROGRAM STUDI GEOFISIKA\n",
    "<p>\n",
    "<p align=\"center\">\n",
    "FAKULTAS MATEMATIKA DAN ILMU PENGETAHUAN ALAM\n",
    "<p>\n",
    "<p align=\"center\">\n",
    "UNIVERSITAS GADJAH MADA\n",
    "<p>\n",
    "<p align=\"center\">\n",
    "2024\n",
    "<p>\n",
    "<br>\n",
    "<br>\n",
    "<p align=\"center\">\n",
    "\n",
    "---\n",
    "\n",
    "<p>\n",
    "  \n"
   ]
  },
  {
   "cell_type": "markdown",
   "metadata": {},
   "source": [
    "## Tugas 1 \n",
    "### Rumus Fisika Dasar\n",
    "1. Hukum Gravitasi Newton "
   ]
  },
  {
   "cell_type": "code",
   "execution_count": 15,
   "metadata": {},
   "outputs": [
    {
     "name": "stdout",
     "output_type": "stream",
     "text": [
      "Gaya gravitasi = 6.67e-11 N\n"
     ]
    }
   ],
   "source": [
    "# Gaya gravitasi antara 2 partikel bermassa (Hk.Gravitasi Newton)\n",
    "\n",
    "G=6.67e-11                                                          #Konstanta Gravitasi ((m^3)/kg(s^2))\n",
    "m1=float(input('Masukkan massa partikel 1 (kg)')) \n",
    "m2=float(input('Masukkan massa partikel 2 (kg)'))\n",
    "r=float(input('Masukkan jarak partiket 1 dan partikel 2 (m)'))\n",
    "F=G * (m1*m2) /r**2                                                 #Gaya Gravitasi (N)\n",
    "print('Gaya gravitasi =',F,'N')"
   ]
  },
  {
   "cell_type": "markdown",
   "metadata": {},
   "source": [
    "2. Persamaan Bernoulli"
   ]
  },
  {
   "cell_type": "code",
   "execution_count": 16,
   "metadata": {},
   "outputs": [
    {
     "name": "stdout",
     "output_type": "stream",
     "text": [
      "Kecepatan fluida di ujung 2 = 1.0 m/s\n"
     ]
    }
   ],
   "source": [
    "#Menghitung v2 pada persamaan Bernoulli\n",
    "\n",
    "P1=float(input('Masukkan tekanan fluida di ujung 1 (Pa)'))\n",
    "P2=float(input('Masukkan tekanan fluida di ujung 2 (Pa)'))\n",
    "rho=float(input('Masukkan massa jenis fluida (kg/m^3)'))\n",
    "g=9.81                                                          #Percepatan Gravitasi (m/s^2)\n",
    "y1=float(input('Masukkan ketinggian ujung 1 (m)'))\n",
    "y2=float(input('Masukkan ketinggian ujung 2 (m)'))\n",
    "v1=float(input('Masukkan kecepatan aliran fluida di ujung 1 (m/s)'))\n",
    "v2=((2 * ((P1 - P2) + rho * g * (y1 - y2) + (1/2) * rho * (v1**2))) / rho )**(1/2) #Menghitung v2\n",
    "print('Kecepatan fluida di ujung 2 =',v2,'m/s')"
   ]
  },
  {
   "cell_type": "markdown",
   "metadata": {},
   "source": [
    "3. Persamaan Efek Doppler (dengan kasus pengamat menjauhi sumber dan sumber mendekati pengamat)"
   ]
  },
  {
   "cell_type": "code",
   "execution_count": 17,
   "metadata": {},
   "outputs": [
    {
     "name": "stdout",
     "output_type": "stream",
     "text": [
      "frekuensi yang dideteksi oleh pengamat adalah 0.9941348973607038 Hz\n"
     ]
    }
   ],
   "source": [
    "# Mengitung frekuensi yang dideteksi (fs)\n",
    "\n",
    "f=float(input('Masukkan frekuensi bunyi yang dikeluarkan sumber (Hz)'))\n",
    "vp=float(input('Masukkan kecepatan pengamat (m/s)'))\n",
    "vs=float(input('Masukkan kecepatan sumber (m/s)'))\n",
    "v=340                                                         #Kecepatan rambat bunyi di udara (m/s)\n",
    "fs=f*((v-vp)/(v+vs))                                          #Menghitung fs dalam Hz\n",
    "print('frekuensi yang dideteksi oleh pengamat adalah',fs,'Hz')\n"
   ]
  },
  {
   "cell_type": "markdown",
   "metadata": {},
   "source": [
    "# Tugas 2\n",
    "### Perumpamaan if-else permasalahan sederhana\n",
    "Perumpamaan if-else untuk mengklasifikasikan gempa berdasarkan skala richter"
   ]
  },
  {
   "cell_type": "code",
   "execution_count": 18,
   "metadata": {},
   "outputs": [
    {
     "name": "stdout",
     "output_type": "stream",
     "text": [
      "Gempa mikro, tidak terasa\n"
     ]
    }
   ],
   "source": [
    "m=float(input('magnitude gempa (skala Richter):'))\n",
    "if 0<=m<2:\n",
    "  print('Gempa mikro, tidak terasa')\n",
    "elif 2<m<=3:\n",
    "    print('Gempa minor, tidak terasa')\n",
    "elif 3<m<=4:\n",
    "    print('Gempa minor, terasa dan tidak menimbulkan kerusakan')\n",
    "elif 4<m<=5:\n",
    "    print('Gempa ligth, guncangan dalam ruangan,suara retak, tapi tidak ada kerusakan besar')\n",
    "elif 5<m<=6:\n",
    "    print('Gempa moderate, kerusakan besar pada bangunan dengan kualitas konstruksi buruk')\n",
    "elif 6<m<=7:\n",
    "    print('Gempa strong, kerusakan pada radius 160 km')\n",
    "elif 7<m<=8:\n",
    "    print('Gempa major, kerusakan lebih serius dengan radius >160 km')\n",
    "elif 8<m<=9:\n",
    "    print('Gempa great, kerusakan dengan radius ratusan km')\n",
    "elif 9<m<=10:\n",
    "    print('Gempa great, menghancurkan bangunan dengan radius ribuan km')\n",
    "elif m>10:\n",
    "    print('Gempa epic, belum pernah terekam')\n",
    "else:\n",
    "  print('mohon masukkan input dengan benar') "
   ]
  },
  {
   "cell_type": "markdown",
   "metadata": {},
   "source": [
    "# Tugas 3\n",
    "## list sederhana berisikan minimal data diri 20 orang random yang berisi [Nama, Umur, TB, BB]. Kemudian lakukan operasi if-else sederhana untuk memfilter data dari list orang-orang yang anda buat."
   ]
  },
  {
   "cell_type": "code",
   "execution_count": 24,
   "metadata": {},
   "outputs": [
    {
     "name": "stdout",
     "output_type": "stream",
     "text": [
      "Nama: Sabrina, Umur: 30, TB: 175, BB: 70\n",
      "Nama: Tammy, Umur: 27, TB: 180, BB: 75\n",
      "Nama: Rafael, Umur: 28, TB: 172, BB: 68\n",
      "Nama: Wildan, Umur: 31, TB: 176, BB: 74\n",
      "Nama: Fauzan, Umur: 29, TB: 178, BB: 72\n",
      "Nama: Rakha, Umur: 28, TB: 177, BB: 69\n",
      "Nama: Faris, Umur: 34, TB: 175, BB: 73\n",
      "Nama: Fendy, Umur: 28, TB: 175, BB: 73\n",
      "\n",
      "\n",
      "Data tidak ditemukan\n"
     ]
    }
   ],
   "source": [
    "# Data 20 orang random\n",
    "people = [\n",
    "    {\"Nama\": \"Reynilda\", \"Umur\": 25, \"TB\": 170, \"BB\": 65},\n",
    "    {\"Nama\": \"Sabrina\", \"Umur\": 30, \"TB\": 175, \"BB\": 70},\n",
    "    {\"Nama\": \"Antik\", \"Umur\": 22, \"TB\": 160, \"BB\": 55},\n",
    "    {\"Nama\": \"Tammy\", \"Umur\": 27, \"TB\": 180, \"BB\": 75},\n",
    "    {\"Nama\": \"Zacka\", \"Umur\": 35, \"TB\": 165, \"BB\": 60},\n",
    "    {\"Nama\": \"Rafael\", \"Umur\": 28, \"TB\": 172, \"BB\": 68},\n",
    "    {\"Nama\": \"Ramanda\", \"Umur\": 23, \"TB\": 158, \"BB\": 52},\n",
    "    {\"Nama\": \"Wildan\", \"Umur\": 31, \"TB\": 176, \"BB\": 74},\n",
    "    {\"Nama\": \"Amelia\", \"Umur\": 24, \"TB\": 162, \"BB\": 58},\n",
    "    {\"Nama\": \"Fauzan\", \"Umur\": 29, \"TB\": 178, \"BB\": 72},\n",
    "    {\"Nama\": \"Reynanda\", \"Umur\": 26, \"TB\": 168, \"BB\": 63},\n",
    "    {\"Nama\": \"Najwa\", \"Umur\": 32, \"TB\": 160, \"BB\": 56},\n",
    "    {\"Nama\": \"Fadhila\", \"Umur\": 25, \"TB\": 155, \"BB\": 50},\n",
    "    {\"Nama\": \"Fatika\", \"Umur\": 22, \"TB\": 165, \"BB\": 53},\n",
    "    {\"Nama\": \"Kikin\", \"Umur\": 33, \"TB\": 170, \"BB\": 69},\n",
    "    {\"Nama\": \"Rakha\", \"Umur\": 28, \"TB\": 177, \"BB\": 69},\n",
    "    {\"Nama\": \"Agas\", \"Umur\": 27, \"TB\": 166, \"BB\": 62},\n",
    "    {\"Nama\": \"Siti\", \"Umur\": 21, \"TB\": 159, \"BB\": 54},\n",
    "    {\"Nama\": \"Faris\", \"Umur\": 34, \"TB\": 175, \"BB\": 73},\n",
    "    {\"Nama\": \"Wawa\", \"Umur\": 23, \"TB\": 157, \"BB\": 51},\n",
    "    {\"Nama\": \"Nisa\", \"Umur\":21, \"TB\": 156, \"BB\":55},\n",
    "    {\"Nama\": \"El\", \"Umur\": 22, \"TB\":170, \"BB\": 69},\n",
    "    {\"Nama\": \"Fendy\",\"Umur\": 28, \"TB\" : 175, \"BB\": 73},\n",
    "    {\"Nama\": \"Habibie\", \"Umur\":21, \"TB\" : 170, \"BB\": 65}\n",
    "]\n",
    "#1 Filter orang dengan tinggi badan (TB) lebih dari 170 (cm)\n",
    "filtered_people = []\n",
    "\n",
    "for person in people:\n",
    "    if person[\"TB\"] > 170:\n",
    "        filtered_people.append(person)\n",
    "\n",
    "# Menampilkan hasil filter\n",
    "for person in filtered_people:\n",
    "    print(f\"Nama: {person['Nama']}, Umur: {person['Umur']}, TB: {person['TB']}, BB: {person['BB']}\")\n",
    "    \n",
    "print(\"\\n\")\n",
    "    \n",
    "#2 Filter orang dengan tinggi badan (TB) kurang dari 150 (cm)\n",
    "filtered_people = []\n",
    "\n",
    "for person in people:\n",
    "    if person[\"TB\"] < 150:\n",
    "        filtered_people.append(person)\n",
    "\n",
    "# Menampilkan hasil filter\n",
    "for person in filtered_people:\n",
    "    print(f\"Nama: {person['Nama']}, Umur: {person['Umur']}, TB: {person['TB']}, BB: {person['BB']}\")\n",
    "else:\n",
    "    print('Data tidak ditemukan')"
   ]
  }
 ],
 "metadata": {
  "kernelspec": {
   "display_name": "Python 3",
   "language": "python",
   "name": "python3"
  },
  "language_info": {
   "codemirror_mode": {
    "name": "ipython",
    "version": 3
   },
   "file_extension": ".py",
   "mimetype": "text/x-python",
   "name": "python",
   "nbconvert_exporter": "python",
   "pygments_lexer": "ipython3",
   "version": "3.12.2"
  }
 },
 "nbformat": 4,
 "nbformat_minor": 2
}
